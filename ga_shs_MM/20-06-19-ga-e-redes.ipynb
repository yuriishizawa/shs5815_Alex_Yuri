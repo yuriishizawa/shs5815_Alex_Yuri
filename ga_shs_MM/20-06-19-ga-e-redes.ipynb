{
 "cells": [
  {
   "cell_type": "code",
   "execution_count": 5,
   "metadata": {},
   "outputs": [
    {
     "name": "stdout",
     "output_type": "stream",
     "text": [
      "The autoreload extension is already loaded. To reload it, use:\n",
      "  %reload_ext autoreload\n"
     ]
    }
   ],
   "source": [
    "%load_ext autoreload\n",
    "%autoreload 2"
   ]
  },
  {
   "cell_type": "code",
   "execution_count": 6,
   "metadata": {},
   "outputs": [],
   "source": [
    "import numpy as np\n",
    "import pandas as pd"
   ]
  },
  {
   "cell_type": "code",
   "execution_count": 7,
   "metadata": {},
   "outputs": [],
   "source": [
    "from ga_shs_MM import genetic_algorithm"
   ]
  },
  {
   "cell_type": "code",
   "execution_count": 8,
   "metadata": {},
   "outputs": [
    {
     "name": "stdout",
     "output_type": "stream",
     "text": [
      "Módulo aberto com sucesso!\n"
     ]
    }
   ],
   "source": [
    "b = genetic_algorithm()"
   ]
  },
  {
   "cell_type": "code",
   "execution_count": 9,
   "metadata": {},
   "outputs": [
    {
     "data": {
      "text/plain": [
       "array([[0.06745446, 0.02805148, 0.47083629, 0.16767499, 0.27236904],\n",
       "       [0.27434987, 0.27372355, 0.23367147, 0.43955097, 0.44317704],\n",
       "       [0.37956881, 0.08017302, 0.42830439, 0.49663934, 0.15506017],\n",
       "       [0.47603781, 0.48995229, 0.22336703, 0.14710537, 0.08587872],\n",
       "       [0.17784423, 0.30371908, 0.45388876, 0.28259101, 0.09378969],\n",
       "       [0.12398279, 0.30087301, 0.23436542, 0.37797305, 0.4245802 ],\n",
       "       [0.33847981, 0.2626237 , 0.46886114, 0.03153609, 0.02141694],\n",
       "       [0.10291354, 0.43496056, 0.26487959, 0.1929739 , 0.11054547],\n",
       "       [0.06344473, 0.41355419, 0.35249434, 0.23443967, 0.24245607],\n",
       "       [0.346522  , 0.39768194, 0.28480346, 0.05699566, 0.32904902]])"
      ]
     },
     "execution_count": 9,
     "metadata": {},
     "output_type": "execute_result"
    }
   ],
   "source": [
    "init_pop = b.initial_pop(size_pop=10,size_cromossomo=5,minimum=0.01,maximum=0.5)\n",
    "init_pop"
   ]
  },
  {
   "cell_type": "code",
   "execution_count": 10,
   "metadata": {},
   "outputs": [],
   "source": [
    "pressoes_r = np.array([2, 3, 5])\n",
    "def rede(rugosidade):\n",
    "    pressaoes_0 = rugosidade[0] +rugosidade[1]-rugosidade[2]+rugosidade[4]*rugosidade[3] \n",
    "    pressaoes_1 = rugosidade[1]-rugosidade[3]-rugosidade[2]+rugosidade[2]+rugosidade[1]*rugosidade[4]\n",
    "    pressaoes_2 = rugosidade[4]*rugosidade[3]+rugosidade[2]+rugosidade[1]*rugosidade[2]-rugosidade[2]\n",
    "    return (pressaoes_0,pressaoes_1,pressaoes_2)"
   ]
  },
  {
   "cell_type": "code",
   "execution_count": 11,
   "metadata": {},
   "outputs": [],
   "source": [
    "resultado = []\n",
    "for i in init_pop:\n",
    "    resultado.append(rede(i))"
   ]
  },
  {
   "cell_type": "code",
   "execution_count": 12,
   "metadata": {},
   "outputs": [
    {
     "data": {
      "text/plain": [
       "[(-0.3296608670681549, -0.13198315638408428, 0.05887713172832476),\n",
       " (0.509200843251676, -0.04451942640474163, 0.2587602782149151),\n",
       " (0.10844642464822278, -0.4040346706486964, 0.11134743726037494),\n",
       " (0.755256291246385, 0.38492339972371237, 0.12207240717836884),\n",
       " (0.05417867830459612, 0.04961379126869671, 0.16435879901920725),\n",
       " (0.3509702502207871, 0.05064468692916063, 0.2309941007061225),\n",
       " (0.13291777702715538, 0.23671220920369396, 0.12380945636350144),\n",
       " (0.29432689804588963, 0.29006958268551214, 0.13654456579483465),\n",
       " (0.18134590305155066, 0.27938324428670513, 0.2026168319174208),\n",
       " (0.47815484236200295, 0.47154314090960414, 0.1320155586101423)]"
      ]
     },
     "execution_count": 12,
     "metadata": {},
     "output_type": "execute_result"
    }
   ],
   "source": [
    "resultado"
   ]
  },
  {
   "cell_type": "code",
   "execution_count": 13,
   "metadata": {},
   "outputs": [
    {
     "name": "stdout",
     "output_type": "stream",
     "text": [
      "[[10.40276689]\n",
      " [ 9.2765583 ]\n",
      " [10.18424081]\n",
      " [ 8.7377479 ]\n",
      " [ 9.73184873]\n",
      " [ 9.36739096]\n",
      " [ 9.50656056]\n",
      " [ 9.27905895]\n",
      " [ 9.33665402]\n",
      " [ 8.91828646]]\n"
     ]
    },
    {
     "data": {
      "text/plain": [
       "array([[10.40276689],\n",
       "       [ 9.2765583 ],\n",
       "       [10.18424081],\n",
       "       [ 8.7377479 ],\n",
       "       [ 9.73184873],\n",
       "       [ 9.36739096],\n",
       "       [ 9.50656056],\n",
       "       [ 9.27905895],\n",
       "       [ 9.33665402],\n",
       "       [ 8.91828646]])"
      ]
     },
     "execution_count": 13,
     "metadata": {},
     "output_type": "execute_result"
    }
   ],
   "source": [
    "b.fitness(pressoes_reais=pressoes_r, pressoes_simuladas=resultado)"
   ]
  },
  {
   "cell_type": "code",
   "execution_count": 14,
   "metadata": {},
   "outputs": [
    {
     "name": "stdout",
     "output_type": "stream",
     "text": [
      "[[0.47603781 0.48995229 0.22336703 0.14710537 0.08587872]\n",
      " [0.346522   0.39768194 0.28480346 0.05699566 0.32904902]]\n",
      "(7, 5)\n",
      "[[0.09571862 0.16446225 0.35260085 0.27282402 0.34847462]\n",
      " [0.2312313  0.28174836 0.35161328 0.20475457 0.22299857]\n",
      " [0.25816202 0.28317139 0.46137495 0.15706355 0.44205216]\n",
      " [0.27870652 0.19194605 0.44109657 0.38961517 0.12442493]\n",
      " [0.22351164 0.05411225 0.44957034 0.33215716 0.2137146 ]]\n",
      "[[0.47603781 0.48995229 0.22336703 0.14710537 0.08587872]\n",
      " [0.346522   0.39768194 0.28480346 0.05699566 0.32904902]\n",
      " [0.09571862 0.16446225 0.35260085 0.27282402 0.34847462]\n",
      " [0.2312313  0.28174836 0.35161328 0.20475457 0.22299857]\n",
      " [0.25816202 0.28317139 0.46137495 0.15706355 0.44205216]\n",
      " [0.27870652 0.19194605 0.44109657 0.38961517 0.12442493]\n",
      " [0.22351164 0.05411225 0.44957034 0.33215716 0.2137146 ]\n",
      " [0.46510711 0.3690913  0.27894623 0.28938277 0.3426415 ]\n",
      " [0.26137542 0.20371666 0.40435905 0.47179897 0.07769085]\n",
      " [0.39789531 0.27495362 0.46866251 0.16968563 0.22634086]]\n"
     ]
    }
   ],
   "source": [
    "pop = b.selecting_mating_pool(elitismo=2,num_filhos=10,mutation=0.1)"
   ]
  },
  {
   "cell_type": "code",
   "execution_count": 15,
   "metadata": {},
   "outputs": [],
   "source": [
    "resultado = []\n",
    "for i in pop:\n",
    "    resultado.append(rede(i))"
   ]
  },
  {
   "cell_type": "code",
   "execution_count": 16,
   "metadata": {},
   "outputs": [
    {
     "data": {
      "text/plain": [
       "[(0.755256291246385, 0.38492339972371237, 0.12207240717836884),\n",
       " (0.47815484236200295, 0.47154314090960414, 0.1320155586101423),\n",
       " (0.0026522638204812266, -0.051050855178944664, 0.15306177450296216),\n",
       " (0.2070263507240578, 0.13982326925319732, 0.14472644035419452),\n",
       " (0.14938874512012384, 0.25128436975105267, 0.20007846909438975),\n",
       " (0.07803384031633841, -0.17378624581682733, 0.13314458581086197),\n",
       " (-0.1009596127329712, -0.2664803338146546, 0.09531409999313578),\n",
       " (0.6544067299022288, 0.20617452798730287, 0.20211117035395726),\n",
       " (0.09738749696313066, -0.2522553896011713, 0.11902913940989512),\n",
       " (0.24259321737560124, 0.16750122812501425, 0.16726724278867589)]"
      ]
     },
     "execution_count": 16,
     "metadata": {},
     "output_type": "execute_result"
    }
   ],
   "source": [
    "resultado"
   ]
  },
  {
   "cell_type": "code",
   "execution_count": 17,
   "metadata": {},
   "outputs": [
    {
     "data": {
      "text/plain": [
       "array([2, 3, 5])"
      ]
     },
     "execution_count": 17,
     "metadata": {},
     "output_type": "execute_result"
    }
   ],
   "source": [
    "pressoes_r"
   ]
  },
  {
   "cell_type": "code",
   "execution_count": 18,
   "metadata": {},
   "outputs": [
    {
     "ename": "TypeError",
     "evalue": "'numpy.ndarray' object is not callable",
     "output_type": "error",
     "traceback": [
      "\u001b[1;31m---------------------------------------------------------------------------\u001b[0m",
      "\u001b[1;31mTypeError\u001b[0m                                 Traceback (most recent call last)",
      "\u001b[1;32m<ipython-input-18-3e525090902b>\u001b[0m in \u001b[0;36m<module>\u001b[1;34m\u001b[0m\n\u001b[1;32m----> 1\u001b[1;33m \u001b[0mb\u001b[0m\u001b[1;33m.\u001b[0m\u001b[0mfitness\u001b[0m\u001b[1;33m(\u001b[0m\u001b[0mpressoes_reais\u001b[0m\u001b[1;33m=\u001b[0m\u001b[0mpressoes_r\u001b[0m\u001b[1;33m,\u001b[0m \u001b[0mpressoes_simuladas\u001b[0m\u001b[1;33m=\u001b[0m\u001b[0mresultado\u001b[0m\u001b[1;33m)\u001b[0m\u001b[1;33m\u001b[0m\u001b[1;33m\u001b[0m\u001b[0m\n\u001b[0m",
      "\u001b[1;31mTypeError\u001b[0m: 'numpy.ndarray' object is not callable"
     ]
    }
   ],
   "source": [
    "b.fitness(pressoes_reais=pressoes_r, pressoes_simuladas=resultado)"
   ]
  },
  {
   "cell_type": "code",
   "execution_count": null,
   "metadata": {},
   "outputs": [],
   "source": [
    "b.fitness"
   ]
  },
  {
   "cell_type": "code",
   "execution_count": null,
   "metadata": {},
   "outputs": [],
   "source": []
  },
  {
   "cell_type": "code",
   "execution_count": 19,
   "metadata": {},
   "outputs": [],
   "source": [
    "dados_trechos = pd.read_csv('DadosTrechos_1.csv')\n",
    "dados_nos = pd.read_csv('DadosNos.csv')"
   ]
  },
  {
   "cell_type": "code",
   "execution_count": 76,
   "metadata": {},
   "outputs": [],
   "source": [
    "from ga_shs_MM import HardyCross_rede"
   ]
  },
  {
   "cell_type": "code",
   "execution_count": 89,
   "metadata": {},
   "outputs": [],
   "source": [
    "rede = HardyCross_rede(dados_nos=dados_nos,\n",
    "                       dados_trechos=dados_trechos,\n",
    "                       VazaoSaida_reservatorio=7,rugosidade=0.5)"
   ]
  },
  {
   "cell_type": "code",
   "execution_count": 90,
   "metadata": {},
   "outputs": [
    {
     "name": "stdout",
     "output_type": "stream",
     "text": [
      "     Trecho  Q_iterativo_1  Q_iterativo_2  Q_iterativo_3\n",
      "0     R - 1            NaN            NaN            NaN\n",
      "1     1 - 2      -2.576985       2.576985            NaN\n",
      "2     2 - 3      -2.331985       2.331985            NaN\n",
      "3    3 - 13            NaN            NaN       1.651101\n",
      "4    3 - 12       0.104830            NaN            NaN\n",
      "5   12 - 11       0.587830            NaN            NaN\n",
      "6   11 - 10       0.979830            NaN            NaN\n",
      "7    10 - 9       1.364830            NaN            NaN\n",
      "8     9 - 1       1.651830            NaN            NaN\n",
      "9   13 - 14            NaN            NaN       1.077101\n",
      "10  14 - 15            NaN            NaN       0.601101\n",
      "11  15 - 16            NaN            NaN      -0.217899\n",
      "12  16 - 17            NaN            NaN      -0.714899\n",
      "13   17 - 5            NaN            NaN      -0.861899\n",
      "14    5 - 4            NaN       0.197713      -0.197713\n",
      "15    4 - 3            NaN       0.400713      -0.400713\n",
      "16    5 - 6            NaN      -1.350186            NaN\n",
      "17    6 - 7            NaN      -1.672186            NaN\n",
      "18    7 - 8            NaN      -1.889186            NaN\n",
      "19    8 - 1            NaN      -2.232186            NaN\n"
     ]
    }
   ],
   "source": [
    "rede.simular()"
   ]
  },
  {
   "cell_type": "code",
   "execution_count": 91,
   "metadata": {},
   "outputs": [
    {
     "data": {
      "text/plain": [
       "(26.734337748449235, 34.46351328417657, 32.41212094424557)"
      ]
     },
     "execution_count": 91,
     "metadata": {},
     "output_type": "execute_result"
    }
   ],
   "source": [
    "rede.resultado_pressao()"
   ]
  },
  {
   "cell_type": "code",
   "execution_count": null,
   "metadata": {},
   "outputs": [],
   "source": []
  }
 ],
 "metadata": {
  "kernelspec": {
   "display_name": "Python 3",
   "language": "python",
   "name": "python3"
  },
  "language_info": {
   "codemirror_mode": {
    "name": "ipython",
    "version": 3
   },
   "file_extension": ".py",
   "mimetype": "text/x-python",
   "name": "python",
   "nbconvert_exporter": "python",
   "pygments_lexer": "ipython3",
   "version": "3.7.3"
  }
 },
 "nbformat": 4,
 "nbformat_minor": 2
}

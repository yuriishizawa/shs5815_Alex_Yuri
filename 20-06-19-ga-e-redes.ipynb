{
 "cells": [
  {
   "cell_type": "code",
   "execution_count": 1,
   "metadata": {},
   "outputs": [],
   "source": [
    "%load_ext autoreload\n",
    "%autoreload 2"
   ]
  },
  {
   "cell_type": "code",
   "execution_count": 2,
   "metadata": {},
   "outputs": [],
   "source": [
    "import numpy as np"
   ]
  },
  {
   "cell_type": "code",
   "execution_count": 3,
   "metadata": {},
   "outputs": [],
   "source": [
    "from ga_shs_MM import genetic_algorithm"
   ]
  },
  {
   "cell_type": "code",
   "execution_count": 5,
   "metadata": {},
   "outputs": [
    {
     "name": "stdout",
     "output_type": "stream",
     "text": [
      "Módulo aberto com sucesso!\n"
     ]
    }
   ],
   "source": [
    "a = genetic_algorithm()"
   ]
  },
  {
   "cell_type": "code",
   "execution_count": 6,
   "metadata": {},
   "outputs": [
    {
     "data": {
      "text/plain": [
       "array([[2.23919632, 8.03677528, 4.61064215, 9.05674449],\n",
       "       [3.18089648, 8.46122526, 7.53742185, 6.32844107],\n",
       "       [6.82203165, 3.9408722 , 7.98658304, 6.17624149],\n",
       "       [1.49134   , 4.87735981, 0.92392551, 5.96631616],\n",
       "       [7.84313131, 6.64557109, 3.51106874, 0.5153934 ],\n",
       "       [4.95591682, 0.80247563, 1.34109771, 2.14834252],\n",
       "       [4.0619631 , 2.89003292, 1.33880734, 3.46331969],\n",
       "       [9.57085759, 2.82764128, 6.59319003, 5.88138687],\n",
       "       [1.28710453, 6.57307959, 9.89342506, 3.31914653],\n",
       "       [4.22620311, 0.13512342, 9.10183613, 0.30605104]])"
      ]
     },
     "execution_count": 6,
     "metadata": {},
     "output_type": "execute_result"
    }
   ],
   "source": [
    "init_pop = a.initial_pop(size_pop=10,size_cromossomo=4,minimum=0.1,maximum=10)\n",
    "init_pop"
   ]
  },
  {
   "cell_type": "code",
   "execution_count": 7,
   "metadata": {},
   "outputs": [
    {
     "name": "stdout",
     "output_type": "stream",
     "text": [
      "[[ -38.0453726 ]\n",
      " [-109.90335855]\n",
      " [ -94.39465055]\n",
      " [   4.3069074 ]\n",
      " [  -9.56519467]\n",
      " [  34.26652014]\n",
      " [  19.27297363]\n",
      " [ -31.59586442]\n",
      " [-189.73160347]\n",
      " [-127.56742726]]\n"
     ]
    }
   ],
   "source": [
    "a.funcao_obj()"
   ]
  },
  {
   "cell_type": "code",
   "execution_count": 8,
   "metadata": {},
   "outputs": [
    {
     "name": "stdout",
     "output_type": "stream",
     "text": [
      "[[1.49134    4.87735981 0.92392551 5.96631616]\n",
      " [4.0619631  2.89003292 1.33880734 3.46331969]\n",
      " [4.95591682 0.80247563 1.34109771 2.14834252]]\n",
      "(8, 4)\n",
      "[[7.26338721 1.81505845 3.96714387 4.01486469]\n",
      " [8.70699445 4.73660618 5.05212939 3.19839013]\n",
      " [4.66723566 5.76146545 2.21749713 3.24085478]\n",
      " [0.49503958 3.88369636 1.13136642 4.71481792]\n",
      " [4.50893996 1.84625427 1.33995252 2.8058311 ]]\n",
      "[[1.49134    4.87735981 0.92392551 5.96631616]\n",
      " [4.0619631  2.89003292 1.33880734 3.46331969]\n",
      " [4.95591682 0.80247563 1.34109771 2.14834252]\n",
      " [7.26338721 1.81505845 3.96714387 4.01486469]\n",
      " [8.70699445 4.73660618 5.05212939 3.19839013]\n",
      " [4.66723566 5.76146545 2.21749713 3.24085478]\n",
      " [0.49503958 3.88369636 1.13136642 4.71481792]\n",
      " [4.50893996 1.84625427 1.33995252 2.8058311 ]\n",
      " [2.66920612 8.62204015 1.39472357 9.61318236]\n",
      " [7.69385983 7.04107535 8.10535705 7.27476262]]\n"
     ]
    }
   ],
   "source": [
    "a.selecting_mating_pool(elitismo=3,num_filhos=10,mutation=0.1)"
   ]
  },
  {
   "cell_type": "code",
   "execution_count": null,
   "metadata": {},
   "outputs": [],
   "source": []
  },
  {
   "cell_type": "code",
   "execution_count": null,
   "metadata": {},
   "outputs": [],
   "source": []
  },
  {
   "cell_type": "code",
   "execution_count": null,
   "metadata": {},
   "outputs": [],
   "source": []
  },
  {
   "cell_type": "code",
   "execution_count": null,
   "metadata": {},
   "outputs": [],
   "source": []
  },
  {
   "cell_type": "code",
   "execution_count": null,
   "metadata": {},
   "outputs": [],
   "source": []
  }
 ],
 "metadata": {
  "kernelspec": {
   "display_name": "Python 3",
   "language": "python",
   "name": "python3"
  },
  "language_info": {
   "codemirror_mode": {
    "name": "ipython",
    "version": 3
   },
   "file_extension": ".py",
   "mimetype": "text/x-python",
   "name": "python",
   "nbconvert_exporter": "python",
   "pygments_lexer": "ipython3",
   "version": "3.7.3"
  }
 },
 "nbformat": 4,
 "nbformat_minor": 2
}

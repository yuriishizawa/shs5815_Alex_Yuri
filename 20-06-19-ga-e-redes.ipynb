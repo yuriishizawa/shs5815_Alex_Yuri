{
 "cells": [
  {
   "cell_type": "code",
   "execution_count": 81,
   "metadata": {},
   "outputs": [],
   "source": [
    "%load_ext autoreload\n",
    "%autoreload 2"
   ]
  },
  {
   "cell_type": "code",
   "execution_count": 4,
   "metadata": {},
   "outputs": [],
   "source": [
    "import numpy as np\n",
    "import pandas as pd"
   ]
  },
  {
   "cell_type": "code",
   "execution_count": 84,
   "metadata": {},
   "outputs": [
    {
     "name": "stdout",
     "output_type": "stream",
     "text": [
      "Módulo aberto com sucesso!\n"
     ]
    }
   ],
   "source": [
    "b = genetic_algorithm()"
   ]
  },
  {
   "cell_type": "code",
   "execution_count": 85,
   "metadata": {},
   "outputs": [
    {
     "data": {
      "text/plain": [
       "array([[0.31985499, 0.29462009, 0.41494267, 0.37113957, 0.48308037],\n",
       "       [0.27918049, 0.07089884, 0.1871817 , 0.17959384, 0.03099241],\n",
       "       [0.1990294 , 0.35228677, 0.46233328, 0.26845208, 0.29697218],\n",
       "       [0.16603895, 0.3513434 , 0.43885069, 0.21144309, 0.15057995],\n",
       "       [0.2207317 , 0.38482847, 0.25756485, 0.28818242, 0.42570979],\n",
       "       [0.48385072, 0.33713667, 0.22345419, 0.30436709, 0.03533569],\n",
       "       [0.07428928, 0.405592  , 0.0669775 , 0.03780436, 0.17637204],\n",
       "       [0.04081646, 0.32716646, 0.26211098, 0.10251775, 0.25539491],\n",
       "       [0.15499473, 0.11185281, 0.35294066, 0.48988025, 0.13085925],\n",
       "       [0.42505862, 0.0563207 , 0.45634026, 0.03056634, 0.4129953 ]])"
      ]
     },
     "execution_count": 85,
     "metadata": {},
     "output_type": "execute_result"
    }
   ],
   "source": [
    "init_pop = b.initial_pop(size_pop=10,size_cromossomo=5,minimum=0.01,maximum=0.5)\n",
    "init_pop"
   ]
  },
  {
   "cell_type": "code",
   "execution_count": 86,
   "metadata": {},
   "outputs": [],
   "source": [
    "pressoes_r = np.array([2, 3, 5])\n",
    "def rede(rugosidade):\n",
    "    pressaoes_0 = rugosidade[0] +rugosidade[1]-rugosidade[2]+rugosidade[4]*rugosidade[3] \n",
    "    pressaoes_1 = rugosidade[1]-rugosidade[3]-rugosidade[2]+rugosidade[2]+rugosidade[1]*rugosidade[4]\n",
    "    pressaoes_2 = rugosidade[4]*rugosidade[3]+rugosidade[2]+rugosidade[1]*rugosidade[2]-rugosidade[2]\n",
    "    return (pressaoes_0,pressaoes_1,pressaoes_2)"
   ]
  },
  {
   "cell_type": "code",
   "execution_count": 87,
   "metadata": {},
   "outputs": [],
   "source": [
    "resultado = []\n",
    "for i in init_pop:\n",
    "    resultado.append(rede(i))"
   ]
  },
  {
   "cell_type": "code",
   "execution_count": 88,
   "metadata": {},
   "outputs": [
    {
     "data": {
      "text/plain": [
       "[(0.37882265516550495, 0.06580570247941386, 0.3015406844612503),\n",
       " (0.16846367798512635, -0.10649767520876736, 0.018837011634681017),\n",
       " (0.16870569268635616, 0.18845405126312126, 0.24259669557215052),\n",
       " (0.11037074812656249, 0.19280557903930123, 0.18602638207426614),\n",
       " (0.47067740296946237, 0.26047130554497, 0.22180036378787293),\n",
       " (0.6082882275795758, 0.044682535614156346, 0.08608962040841489),\n",
       " (0.41957140738252485, 0.4393227258943449, 0.033833168889162546),\n",
       " (0.13205445536803267, 0.3082053648279024, 0.11193643182858154),\n",
       " (-0.02198775426569169, -0.3633904668703135, 0.10358276533521116),\n",
       " (0.0376628192483249, 0.04901454138003429, 0.03832515782807422)]"
      ]
     },
     "execution_count": 88,
     "metadata": {},
     "output_type": "execute_result"
    }
   ],
   "source": [
    "resultado"
   ]
  },
  {
   "cell_type": "code",
   "execution_count": 89,
   "metadata": {},
   "outputs": [
    {
     "name": "stdout",
     "output_type": "stream",
     "text": [
      "[[ 9.25383096]\n",
      " [ 9.91919699]\n",
      " [ 9.40024356]\n",
      " [ 9.51079729]\n",
      " [ 9.04705093]\n",
      " [ 9.26093962]\n",
      " [ 9.1072727 ]\n",
      " [ 9.44780375]\n",
      " [10.28179546]\n",
      " [ 9.87499748]]\n"
     ]
    },
    {
     "data": {
      "text/plain": [
       "array([[ 9.25383096],\n",
       "       [ 9.91919699],\n",
       "       [ 9.40024356],\n",
       "       [ 9.51079729],\n",
       "       [ 9.04705093],\n",
       "       [ 9.26093962],\n",
       "       [ 9.1072727 ],\n",
       "       [ 9.44780375],\n",
       "       [10.28179546],\n",
       "       [ 9.87499748]])"
      ]
     },
     "execution_count": 89,
     "metadata": {},
     "output_type": "execute_result"
    }
   ],
   "source": [
    "b.fitness(pressoes_reais=pressoes_r, pressoes_simuladas=resultado)"
   ]
  },
  {
   "cell_type": "code",
   "execution_count": 90,
   "metadata": {},
   "outputs": [
    {
     "name": "stdout",
     "output_type": "stream",
     "text": [
      "[[0.2207317  0.38482847 0.25756485 0.28818242 0.42570979]\n",
      " [0.07428928 0.405592   0.0669775  0.03780436 0.17637204]]\n",
      "(7, 5)\n",
      "[[0.0979056  0.4383383  0.30752582 0.296199   0.19312708]\n",
      " [0.1034277  0.33925493 0.42737845 0.36992003 0.20298743]\n",
      " [0.29554878 0.20383205 0.44759547 0.12100472 0.28178763]\n",
      " [0.35211955 0.06360977 0.32176098 0.10508009 0.22199386]\n",
      " [0.21708761 0.09137583 0.27006118 0.33473705 0.08092583]]\n",
      "[[0.2207317  0.38482847 0.25756485 0.28818242 0.42570979]\n",
      " [0.07428928 0.405592   0.0669775  0.03780436 0.17637204]\n",
      " [0.0979056  0.4383383  0.30752582 0.296199   0.19312708]\n",
      " [0.1034277  0.33925493 0.42737845 0.36992003 0.20298743]\n",
      " [0.29554878 0.20383205 0.44759547 0.12100472 0.28178763]\n",
      " [0.35211955 0.06360977 0.32176098 0.10508009 0.22199386]\n",
      " [0.21708761 0.09137583 0.27006118 0.33473705 0.08092583]\n",
      " [0.32675754 0.10909638 0.35751747 0.24708747 0.14880047]\n",
      " [0.42025359 0.26648468 0.18176889 0.03281872 0.35741189]\n",
      " [0.28631172 0.19353686 0.3163006  0.08423143 0.09763133]]\n"
     ]
    }
   ],
   "source": [
    "pop = b.selecting_mating_pool(elitismo=2,num_filhos=10,mutation=0.1)"
   ]
  },
  {
   "cell_type": "code",
   "execution_count": 91,
   "metadata": {},
   "outputs": [],
   "source": [
    "resultado = []\n",
    "for i in pop:\n",
    "    resultado.append(rede(i))"
   ]
  },
  {
   "cell_type": "code",
   "execution_count": 92,
   "metadata": {},
   "outputs": [
    {
     "data": {
      "text/plain": [
       "[(0.47067740296946237, 0.26047130554497, 0.22180036378787293),\n",
       " (0.41957140738252485, 0.4393227258943449, 0.033833168889162546),\n",
       " (0.2859221261122738, 0.2267942968999721, 0.1920043911488144),\n",
       " (0.0903932979290899, 0.038199384117977506, 0.2200793633835713),\n",
       " (0.08588299276176775, 0.14026468182908436, 0.1253319339131766),\n",
       " (0.11729548282347028, -0.02734934366856517, 0.04379427696288313),\n",
       " (0.06549113125514591, -0.23596655683114937, 0.05176593613856345),\n",
       " (0.1151031780722251, -0.12175749936937788, 0.07577059374012196),\n",
       " (0.5166991825277588, 0.32891075831812905, 0.06016842427558666),\n",
       " (0.17177160382409956, 0.12820069123015862, 0.06943945384913608)]"
      ]
     },
     "execution_count": 92,
     "metadata": {},
     "output_type": "execute_result"
    }
   ],
   "source": [
    "resultado"
   ]
  },
  {
   "cell_type": "code",
   "execution_count": 93,
   "metadata": {},
   "outputs": [
    {
     "data": {
      "text/plain": [
       "array([2, 3, 5])"
      ]
     },
     "execution_count": 93,
     "metadata": {},
     "output_type": "execute_result"
    }
   ],
   "source": [
    "pressoes_r"
   ]
  },
  {
   "cell_type": "code",
   "execution_count": 94,
   "metadata": {},
   "outputs": [
    {
     "ename": "TypeError",
     "evalue": "'numpy.ndarray' object is not callable",
     "output_type": "error",
     "traceback": [
      "\u001b[1;31m---------------------------------------------------------------------------\u001b[0m",
      "\u001b[1;31mTypeError\u001b[0m                                 Traceback (most recent call last)",
      "\u001b[1;32m<ipython-input-94-3e525090902b>\u001b[0m in \u001b[0;36m<module>\u001b[1;34m\u001b[0m\n\u001b[1;32m----> 1\u001b[1;33m \u001b[0mb\u001b[0m\u001b[1;33m.\u001b[0m\u001b[0mfitness\u001b[0m\u001b[1;33m(\u001b[0m\u001b[0mpressoes_reais\u001b[0m\u001b[1;33m=\u001b[0m\u001b[0mpressoes_r\u001b[0m\u001b[1;33m,\u001b[0m \u001b[0mpressoes_simuladas\u001b[0m\u001b[1;33m=\u001b[0m\u001b[0mresultado\u001b[0m\u001b[1;33m)\u001b[0m\u001b[1;33m\u001b[0m\u001b[1;33m\u001b[0m\u001b[0m\n\u001b[0m",
      "\u001b[1;31mTypeError\u001b[0m: 'numpy.ndarray' object is not callable"
     ]
    }
   ],
   "source": [
    "b.fitness(pressoes_reais=pressoes_r, pressoes_simuladas=resultado)"
   ]
  },
  {
   "cell_type": "code",
   "execution_count": null,
   "metadata": {},
   "outputs": [],
   "source": [
    "b.fitness"
   ]
  },
  {
   "cell_type": "code",
   "execution_count": null,
   "metadata": {},
   "outputs": [],
   "source": []
  },
  {
   "cell_type": "code",
   "execution_count": 7,
   "metadata": {},
   "outputs": [],
   "source": [
    "dados_trechos = pd.read_csv('DadosTrechos_1.csv')\n",
    "dados_nos = pd.read_csv('DadosNos.csv')"
   ]
  },
  {
   "cell_type": "code",
   "execution_count": 91,
   "metadata": {},
   "outputs": [],
   "source": [
    "from ga_shs_MM import genetic_algorithm, HardyCross_rede"
   ]
  },
  {
   "cell_type": "code",
   "execution_count": 116,
   "metadata": {},
   "outputs": [],
   "source": [
    "rede = HardyCross_rede(dados_nos=dados_nos,\n",
    "                       dados_trechos=dados_trechos,\n",
    "                       VazaoSaida_reservatorio=7,rugosidade=0.1)"
   ]
  },
  {
   "cell_type": "code",
   "execution_count": 117,
   "metadata": {},
   "outputs": [
    {
     "name": "stdout",
     "output_type": "stream",
     "text": [
      "186.84165748086434 -1464.3695228736876 -1325.2787341669127\n",
      "-361.9741266182955 -486.28798984713274 -517.4068815161852\n",
      "-156.06225959303083 -306.2746103797091 -179.82669819622424\n",
      "-89.00995072045725 -128.557036963447 -99.3771755567659\n",
      "-39.27289732786812 -68.3095131677934 -43.694138499306064\n",
      "-20.020714004624097 -31.199197928271474 -22.261774484667967\n",
      "-9.314712875684563 -15.58730855739418 -10.377008007970062\n",
      "-4.585869599266061 -7.357668730992145 -5.107069368140401\n",
      "-2.1806683005038394 -3.5941372447596223 -2.4303985573685623\n",
      "-1.0595691959952092 -1.7184010365224367 -1.1806473883320905\n",
      "-0.5080653782479203 -0.832407064699737 -0.5662770510282371\n",
      "-0.24562589808601842 -0.3999540148518008 -0.2737397436364972\n",
      "-0.11815132115907545 -0.19313027727719145 -0.13168734632608903\n",
      "-0.05701094847790955 -0.09297093465079342 -0.06353959444641077\n",
      "-0.027456429076210043 -0.04484036775409095 -0.030601680422932986\n",
      "-0.013238696922599047 -0.0216013286475345 -0.014754982180647858\n",
      "-0.006378653406500234 -0.01041372118208983 -0.007109318639322737\n",
      "-0.003074742899116245 -0.005018076033138641 -0.0034269259929260443\n",
      "-0.001481725667417777 -0.0024187340779917577 -0.001651451323141373\n",
      "-0.0007141696228245564 -0.001165641901593517 -0.0007959726792705624\n",
      "-0.00034418264931446174 -0.0005618077049120984 -0.00038360700682460447\n",
      "-0.00016588416792728822 -0.0002707585246071176 -0.00018488515456738241\n",
      "-7.99472304606752e-05 -0.00013049500728357089 -8.910474070944474e-05\n",
      "-3.853121233987622e-05 -6.289193936481752e-05 -4.294473183108494e-05\n",
      "-1.857014558481751e-05 -3.031116648344323e-05 -2.0697248828582815e-05\n",
      "-8.949979019234888e-06 -1.4608520245928958e-05 -9.97514712253178e-06\n",
      "-4.313464160077274e-06 -7.040644391054229e-06 -4.8075453378260136e-06\n",
      "     Trecho  Q_iterativo_1  Q_iterativo_2  Q_iterativo_3\n",
      "0     R - 1            NaN            NaN            NaN\n",
      "1     1 - 2      -2.507171       2.507171            NaN\n",
      "2     2 - 3      -2.262171       2.262171            NaN\n",
      "3    3 - 13            NaN            NaN       1.512790\n",
      "4    3 - 12       0.253513            NaN            NaN\n",
      "5   12 - 11       0.736513            NaN            NaN\n",
      "6   11 - 10       1.128513            NaN            NaN\n",
      "7    10 - 9       1.513513            NaN            NaN\n",
      "8     9 - 1       1.800513            NaN            NaN\n",
      "9   13 - 14            NaN            NaN       0.938790\n",
      "10  14 - 15            NaN            NaN       0.462790\n",
      "11  15 - 16            NaN            NaN      -0.356210\n",
      "12  16 - 17            NaN            NaN      -0.853210\n",
      "13   17 - 5            NaN            NaN      -1.000210\n",
      "14    5 - 4            NaN       0.414893      -0.414893\n",
      "15    4 - 3            NaN       0.617893      -0.617893\n",
      "16    5 - 6            NaN      -1.271317            NaN\n",
      "17    6 - 7            NaN      -1.593317            NaN\n",
      "18    7 - 8            NaN      -1.810317            NaN\n",
      "19    8 - 1            NaN      -2.153317            NaN\n"
     ]
    }
   ],
   "source": [
    "rede.simular()"
   ]
  },
  {
   "cell_type": "code",
   "execution_count": null,
   "metadata": {},
   "outputs": [],
   "source": []
  }
 ],
 "metadata": {
  "kernelspec": {
   "display_name": "Python 3",
   "language": "python",
   "name": "python3"
  },
  "language_info": {
   "codemirror_mode": {
    "name": "ipython",
    "version": 3
   },
   "file_extension": ".py",
   "mimetype": "text/x-python",
   "name": "python",
   "nbconvert_exporter": "python",
   "pygments_lexer": "ipython3",
   "version": "3.7.3"
  }
 },
 "nbformat": 4,
 "nbformat_minor": 2
}
